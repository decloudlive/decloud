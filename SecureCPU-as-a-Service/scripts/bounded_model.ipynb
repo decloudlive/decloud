{
 "cells": [
  {
   "cell_type": "code",
   "execution_count": null,
   "metadata": {
    "collapsed": false
   },
   "outputs": [
    {
     "name": "stderr",
     "output_type": "stream",
     "text": [
      "/Users/fanz/Library/Python/2.7/lib/python/site-packages/scipy/optimize/minpack.py:236: RuntimeWarning: The iteration is not making good progress, as measured by the \n",
      "  improvement from the last ten iterations.\n",
      "  warnings.warn(msg, RuntimeWarning)\n",
      "/Users/fanz/Library/Python/2.7/lib/python/site-packages/scipy/optimize/minpack.py:236: RuntimeWarning: The number of calls to function has reached maxfev = 400.\n",
      "  warnings.warn(msg, RuntimeWarning)\n"
     ]
    },
    {
     "name": "stdout",
     "output_type": "stream",
     "text": [
      "1.0 0.0 0 0.0\n"
     ]
    }
   ],
   "source": [
    "from revenues import *\n",
    "import copy\n",
    "from multiprocessing import Pool, cpu_count\n",
    "import sys\n",
    "import cPickle\n",
    "import os\n",
    "\n",
    "\n",
    "def busy_poet(params):\n",
    "    _, usefulPriceBaseline = useful_work(params)\n",
    "    aUseful, aStd, aFarming = var(\"aUseful, aStd, aFarming\")\n",
    "\n",
    "    # these symbols are declared here in order to differentiate standard\n",
    "    # operation from mining, because they have different ages.\n",
    "    eCostStd, eCostFarming, costStd, costFarming, RwStd = var(\"eCostStd, eCostFarming, costStd, costFarming, RwStd\")\n",
    "    subs = [\n",
    "        (eCostStd, eCost.subs(u, 1).subs(age, aStd)),\n",
    "        (eCostFarming, eCost.subs(u, 0).subs(age, aFarming)),\n",
    "        (costStd, cost.subs(age, aStd)),\n",
    "        (costFarming, cost.subs(age, aFarming)),\n",
    "        (RwStd, R_w.subs(age, aStd).subs(u, 1))\n",
    "    ]\n",
    "\n",
    "    # Standard mining: (working without mining is strictly inferior)\n",
    "    perCPUCostStandard = (eCostStd + overheadStd + costStd)\n",
    "    perCPURev = (RwStd + R_b - perCPUCostStandard)\n",
    "    cpuCountStandard = (total_cap / perCPUCostStandard).subs(params)\n",
    "    revStandard = (perCPURev * cpuCountStandard)\n",
    "\n",
    "    # Farming: (Mining in standard form doesn't make sense)\n",
    "    perCPUCostFarm = (eCostFarming + overheadFarm + costFarming)\n",
    "    perCPURevFarm = (R_b - perCPUCostFarm)\n",
    "    cpuCountFarm = (total_cap / perCPUCostFarm).subs(params)\n",
    "    revFarm = (perCPURevFarm * cpuCountFarm)\n",
    "\n",
    "    # equilibrium:\n",
    "    stdOpRatio = var(\"stdOpRatio\")\n",
    "    busyPoET_R_b = annualCryptoRev / \\\n",
    "        ( stdOpRatio * operatorCount * cpuCountStandard + (1 - stdOpRatio) * operatorCount * cpuCountFarm )\n",
    "\n",
    "    busyPoET_R_b = busyPoET_R_b.subs(subs).subs(params)\n",
    "\n",
    "    # 1) condition one: revenues are equal\n",
    "    revDiff = (revStandard - revFarm).subs(R_b, busyPoET_R_b).subs(subs).subs(params)\n",
    "\n",
    "    aSingleStd, aSingleFarmer = var(\"aSingleStd, aSingleFarmer\")\n",
    "    utilitySingleFarmer = revFarm.subs(subs).subs(aFarming, aSingleFarmer).subs(R_b, busyPoET_R_b).subs(params)\n",
    "    # 2) condition two: farming age is optimal\n",
    "    utilityFarmingDiff = diff(utilitySingleFarmer, aSingleFarmer).subs(aSingleFarmer, aFarming)\n",
    "\n",
    "    utilitySingleStdMiner = revStandard.subs(subs).subs(aStd, aSingleStd).subs(R_b, busyPoET_R_b).subs(params)\n",
    "    # 3) condition three: std mining age is optimal\n",
    "    utilityStdMinerDiff = diff(utilitySingleStdMiner, aSingleStd).subs(aSingleStd, aStd)\n",
    "\n",
    "    def threeConditions(arg):\n",
    "        x, y, z = arg\n",
    "        x = min(MAX_STALENESS, x)\n",
    "        y = min(MAX_STALENESS, y)\n",
    "#         if z > 1.0:\n",
    "#             z = 1\n",
    "#         elif z < 0.0:\n",
    "#             z = 0.0\n",
    "\n",
    "        return (revDiff.subs([(aFarming, x), (aStd, y), (stdOpRatio, z)]), \n",
    "               utilityFarmingDiff.subs(([(aFarming, x), (aStd, y), (stdOpRatio, z)])),\n",
    "               utilityStdMinerDiff.subs(([(aFarming, x), (aStd, y), (stdOpRatio, z)])))\n",
    "\n",
    "    bestAgeFarming, bestAgeStd, bestStdOpRatio = fsolve(threeConditions, [5, 5, .5])\n",
    "\n",
    "    if bestStdOpRatio >= 1.0:\n",
    "        bestStdOpRatio = 1.0\n",
    "        bestAgeFarming = -1\n",
    "        bestAgeStd, = fsolve(lambdify(aStd, utilityStdMinerDiff.subs(stdOpRatio, 1.0)), 5)\n",
    "    elif bestStdOpRatio <= 0.0:\n",
    "        bestStdOpRatio = 0.0\n",
    "        bestAgeStd = -1\n",
    "        bestAgeFarming, = fsolve(lambdify(aFarming, utilityFarmingDiff.subs(stdOpRatio, 0.0)), 5)\n",
    "        # pprint (utilityFarmingDiff.subs(stdOpRatio, bestStdOpRatio).atoms(Symbol))\n",
    "        \n",
    "    bestAgeFarming = min(MAX_STALENESS, bestAgeFarming)\n",
    "    bestAgeStd = min(MAX_STALENESS, bestAgeStd)\n",
    "    \n",
    "    cpuCountStd_v = cpuCountStandard.subs(subs).subs(params).subs(aStd, bestAgeStd)\n",
    "        \n",
    "    return (bestAgeFarming, bestAgeStd, bestStdOpRatio, cpuCountStd_v)\n",
    "    \n",
    "    \n",
    "for opCount in np.logspace(0,7, num=20):\n",
    "    valSubs[\"annualCryptoRev\"] = 248.87 * 25 * 365 * 24 * 6;\n",
    "    valSubs[\"operatorCount\"] = opCount\n",
    "    bestAgeFarming, bestAgeStd, bestStdOpRatio, cpuCountStd_v = busy_poet(valSubs)\n",
    "    print opCount, bestStdOpRatio, opCount*bestStdOpRatio*cpuCountStd_v, bestStdOpRatio"
   ]
  },
  {
   "cell_type": "code",
   "execution_count": null,
   "metadata": {
    "collapsed": true
   },
   "outputs": [],
   "source": []
  }
 ],
 "metadata": {
  "kernelspec": {
   "display_name": "Python 2",
   "language": "python",
   "name": "python2"
  },
  "language_info": {
   "codemirror_mode": {
    "name": "ipython",
    "version": 2
   },
   "file_extension": ".py",
   "mimetype": "text/x-python",
   "name": "python",
   "nbconvert_exporter": "python",
   "pygments_lexer": "ipython2",
   "version": "2.7.12"
  }
 },
 "nbformat": 4,
 "nbformat_minor": 1
}
